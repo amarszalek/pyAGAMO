{
 "cells": [
  {
   "cell_type": "markdown",
   "metadata": {
    "pycharm": {
     "name": "#%% md\n"
    }
   },
   "source": [
    "## Example, RE34 Problem"
   ]
  },
  {
   "cell_type": "code",
   "execution_count": null,
   "metadata": {
    "pycharm": {
     "name": "#%%\n"
    }
   },
   "outputs": [],
   "source": [
    "from pygamoo.objectives import RE34F1, RE34F2, RE34F3\n",
    "from pygamoo.players import ClonalSelection\n",
    "from pygamoo.agamoo import AGAMOO\n",
    "\n",
    "HOST = \"rabbitmq host\"\n",
    "PORT = 5672\n",
    "\n",
    "obj_queues = ['q_f1', 'q_f2', 'q_f3']\n",
    "\n",
    "bounds = list(zip([1.0, 1.0, 1.0, 1.0, 1.0], [3.0, 3.0, 3.0, 3.0, 3.0]))\n",
    "player_parm = { \"nclone\": 15, \"mutate_args\": [0.45, 0.9, 0.1]}\n",
    "repairer_queue = None\n",
    "cmd_exchange = 'pls_exchange'\n",
    "npop = 20\n",
    "nvars = 5\n",
    "nobjs = 3\n",
    "max_eval = 1000\n",
    "change_iter = 1\n",
    "next_iter = -1\n",
    "max_front = 100\n"
   ]
  },
  {
   "cell_type": "markdown",
   "metadata": {
    "pycharm": {
     "name": "#%% md\n"
    }
   },
   "source": [
    "### Creating and running objectives"
   ]
  },
  {
   "cell_type": "code",
   "execution_count": null,
   "metadata": {
    "pycharm": {
     "name": "#%%\n"
    }
   },
   "outputs": [],
   "source": [
    "objectives = [RE34F1(obj_queues[0], host=HOST, port=PORT),\n",
    "              RE34F2(obj_queues[1], host=HOST, port=PORT),\n",
    "              RE34F3(obj_queues[2], host=HOST, port=PORT)]\n",
    "\n",
    "for obj in objectives:\n",
    "    obj.run()"
   ]
  },
  {
   "cell_type": "markdown",
   "metadata": {
    "pycharm": {
     "name": "#%% md\n"
    }
   },
   "source": [
    "### Creating and running players"
   ]
  },
  {
   "cell_type": "code",
   "execution_count": null,
   "metadata": {
    "pycharm": {
     "name": "#%%\n"
    }
   },
   "outputs": [],
   "source": [
    "players = [ClonalSelection(0, obj_queues[0], repairer_queue, cmd_exchange, npop, nvars, bounds, HOST, PORT, player_parm),\n",
    "           ClonalSelection(1, obj_queues[1], repairer_queue, cmd_exchange, npop, nvars, bounds, HOST, PORT, player_parm),\n",
    "           ClonalSelection(2, obj_queues[2], repairer_queue, cmd_exchange, npop, nvars, bounds, HOST, PORT, player_parm)]\n",
    "\n",
    "for player in players:\n",
    "    player.run()"
   ]
  },
  {
   "cell_type": "markdown",
   "metadata": {
    "pycharm": {
     "name": "#%% md\n"
    }
   },
   "source": [
    "### Creating and running AGAMOO"
   ]
  },
  {
   "cell_type": "code",
   "execution_count": null,
   "metadata": {
    "pycharm": {
     "name": "#%%\n"
    }
   },
   "outputs": [],
   "source": [
    "agamoo = AGAMOO(nobjs, nvars, max_eval, change_iter, next_iter, max_front, cmd_exchange, obj_queues, HOST, PORT)\n",
    "agamoo.run()"
   ]
  },
  {
   "cell_type": "code",
   "execution_count": null,
   "metadata": {
    "pycharm": {
     "name": "#%%\n"
    }
   },
   "outputs": [],
   "source": [
    "agamoo.is_alive()"
   ]
  },
  {
   "cell_type": "code",
   "execution_count": null,
   "metadata": {
    "pycharm": {
     "name": "#%%\n"
    }
   },
   "outputs": [],
   "source": [
    "import time\n",
    "agamoo.start()\n",
    "while True:\n",
    "    res = agamoo.get_results()\n",
    "    print(res['stop_flag'])\n",
    "    print(res['iterations'])\n",
    "    print(res['evaluations'])\n",
    "    print(res['evaluations_m'])\n",
    "    time.sleep(1)\n",
    "    if not agamoo.is_working():\n",
    "        break\n",
    "res = agamoo.get_results()\n",
    "res"
   ]
  },
  {
   "cell_type": "markdown",
   "metadata": {
    "pycharm": {
     "name": "#%% md\n"
    }
   },
   "source": [
    "## Close"
   ]
  },
  {
   "cell_type": "code",
   "execution_count": null,
   "metadata": {
    "pycharm": {
     "name": "#%%\n"
    }
   },
   "outputs": [],
   "source": [
    "agamoo.close()"
   ]
  }
 ],
 "metadata": {
  "kernelspec": {
   "display_name": "Python 3 (ipykernel)",
   "language": "python",
   "name": "python3"
  },
  "language_info": {
   "codemirror_mode": {
    "name": "ipython",
    "version": 3
   },
   "file_extension": ".py",
   "mimetype": "text/x-python",
   "name": "python",
   "nbconvert_exporter": "python",
   "pygments_lexer": "ipython3",
   "version": "3.9.7"
  }
 },
 "nbformat": 4,
 "nbformat_minor": 1
}