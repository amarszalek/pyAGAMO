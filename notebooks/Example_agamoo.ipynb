{
 "cells": [
  {
   "cell_type": "markdown",
   "metadata": {},
   "source": [
    "## Example, RE34 Problem"
   ]
  },
  {
   "cell_type": "code",
   "execution_count": null,
   "metadata": {},
   "outputs": [],
   "source": [
    "from pygamoo.objectives import RE34F1, RE34F2, RE34F3\n",
    "from pygamoo.players import ClonalSelection\n",
    "from pygamoo.agamoo import AGAMOO\n",
    "\n",
    "HOST = \"rabbitmq host\"\n",
    "PORT = 5672\n",
    "\n",
    "obj_queues = ['q_f1', 'q_f2', 'q_f3']\n",
    "\n",
    "bounds = list(zip([1.0, 1.0, 1.0, 1.0, 1.0], [3.0, 3.0, 3.0, 3.0, 3.0]))\n",
    "player_parm = { \"nclone\": 15, \"mutate_args\": [0.45, 0.9, 0.1]}\n",
    "repairer_queue = None\n",
    "cmd_exchange = 'pls_exchange'\n",
    "npop = 20\n",
    "nvars = 5\n",
    "nobjs = 3\n",
    "max_eval = 1000\n",
    "change_iter = 1\n",
    "next_iter = -1\n",
    "max_front = 100\n"
   ]
  },
  {
   "cell_type": "markdown",
   "metadata": {},
   "source": [
    "### Creating and running objectives"
   ]
  },
  {
   "cell_type": "code",
   "execution_count": null,
   "metadata": {},
   "outputs": [],
   "source": [
    "objectives = [RE34F1(0, obj_queues[0], host=HOST, port=PORT),\n",
    "              RE34F2(1, obj_queues[1], host=HOST, port=PORT), \n",
    "              RE34F3(2, obj_queues[2], host=HOST, port=PORT)]\n",
    "\n",
    "for obj in objectives:\n",
    "    obj.run()"
   ]
  },
  {
   "cell_type": "markdown",
   "metadata": {},
   "source": [
    "### Creating and running players"
   ]
  },
  {
   "cell_type": "code",
   "execution_count": null,
   "metadata": {},
   "outputs": [],
   "source": [
    "players = [ClonalSelection(0, obj_queues[0], repairer_queue, cmd_exchange, npop, nvars, bounds, HOST, PORT, player_parm),\n",
    "           ClonalSelection(1, obj_queues[1], repairer_queue, cmd_exchange, npop, nvars, bounds, HOST, PORT, player_parm),\n",
    "           ClonalSelection(2, obj_queues[2], repairer_queue, cmd_exchange, npop, nvars, bounds, HOST, PORT, player_parm)]\n",
    "\n",
    "for player in players:\n",
    "    player.run()"
   ]
  },
  {
   "cell_type": "markdown",
   "metadata": {},
   "source": [
    "### Creating and running AGAMOO"
   ]
  },
  {
   "cell_type": "code",
   "execution_count": null,
   "metadata": {},
   "outputs": [],
   "source": [
    "agamoo = AGAMOO(nobjs, nvars, max_eval, change_iter, next_iter, max_front, cmd_exchange, obj_queues, HOST, PORT)\n",
    "agamoo.run()"
   ]
  },
  {
   "cell_type": "code",
   "execution_count": null,
   "metadata": {},
   "outputs": [],
   "source": [
    "agamoo.is_alive()"
   ]
  },
  {
   "cell_type": "code",
   "execution_count": null,
   "metadata": {},
   "outputs": [],
   "source": []
  },
  {
   "cell_type": "code",
   "execution_count": 1,
   "metadata": {},
   "outputs": [],
   "source": [
    "import sys\n",
    "sys.path.append(r'../')\n",
    "\n",
    "HOST = \"149.156.136.253\"\n",
    "PORT = 5672\n",
    "\n",
    "from pygamoo.objectives.re import RE34F1, RE34F2, RE34F3\n",
    "from pygamoo.players.clonalselection import ClonalSelection\n",
    "from pygamoo.agamoo import AGAMOO\n",
    "\n",
    "#objectives = [RE34F1(0, 'q_f1', host=HOST, port=PORT),\n",
    "#              RE34F2(1, 'q_f2', host=HOST, port=PORT), \n",
    "#              RE34F3(2, 'q_f3', host=HOST, port=PORT)]\n",
    "\n",
    "#bounds = list(zip([1.0, 1.0, 1.0, 1.0, 1.0],[3.0, 3.0, 3.0, 3.0, 3.0]))\n",
    "#player_parm = { \"nclone\": 15, \"mutate_args\": [0.45, 0.9, 0.1]}\n",
    "\n",
    "#players = [ClonalSelection(0, 'q_f1', None, 'pls_exchange', 20, 5, bounds, HOST, PORT, player_parm),\n",
    "#           ClonalSelection(1, 'q_f2', None, 'pls_exchange', 20, 5, bounds, HOST, PORT, player_parm),\n",
    "#           ClonalSelection(2, 'q_f3', None, 'pls_exchange', 20, 5, bounds, HOST, PORT, player_parm)]\n",
    "\n",
    "nobjs = 3\n",
    "nvars = 5\n",
    "max_eval = 1000\n",
    "change_iter = 1\n",
    "next_iter = -1\n",
    "max_front = 100\n",
    "cmd_exchange = 'pls_exchange'\n",
    "obj_queues = ['q_f1', 'q_f2', 'q_f3']\n",
    " \n",
    "agamoo = AGAMOO(nobjs, nvars, max_eval, change_iter, next_iter, max_front, cmd_exchange, obj_queues, HOST, PORT) "
   ]
  },
  {
   "cell_type": "code",
   "execution_count": 2,
   "metadata": {},
   "outputs": [
    {
     "name": "stderr",
     "output_type": "stream",
     "text": [
      "INFO:root:Starting processes\n"
     ]
    },
    {
     "name": "stdout",
     "output_type": "stream",
     "text": [
      "po logging\n"
     ]
    }
   ],
   "source": [
    "agamoo.run()"
   ]
  },
  {
   "cell_type": "code",
   "execution_count": 3,
   "metadata": {},
   "outputs": [
    {
     "data": {
      "text/plain": [
       "True"
      ]
     },
     "execution_count": 3,
     "metadata": {},
     "output_type": "execute_result"
    }
   ],
   "source": [
    "agamoo._p2.is_alive()"
   ]
  },
  {
   "cell_type": "code",
   "execution_count": 7,
   "metadata": {},
   "outputs": [
    {
     "name": "stderr",
     "output_type": "stream",
     "text": [
      "INFO:pika.adapters.utils.connection_workflow:Pika version 1.2.0 connecting to ('149.156.136.253', 5672)\n",
      "INFO:pika.adapters.utils.io_services_utils:Socket connected: <socket.socket fd=1472, family=AddressFamily.AF_INET, type=SocketKind.SOCK_STREAM, proto=6, laddr=('192.168.88.59', 63339), raddr=('149.156.136.253', 5672)>\n",
      "INFO:pika.adapters.utils.connection_workflow:Streaming transport linked up: (<pika.adapters.utils.io_services_utils._AsyncPlaintextTransport object at 0x0000019AD16E5400>, _StreamingProtocolShim: <SelectConnection PROTOCOL transport=<pika.adapters.utils.io_services_utils._AsyncPlaintextTransport object at 0x0000019AD16E5400> params=<ConnectionParameters host=149.156.136.253 port=5672 virtual_host=/ ssl=False>>).\n",
      "INFO:pika.adapters.utils.connection_workflow:AMQPConnector - reporting success: <SelectConnection OPEN transport=<pika.adapters.utils.io_services_utils._AsyncPlaintextTransport object at 0x0000019AD16E5400> params=<ConnectionParameters host=149.156.136.253 port=5672 virtual_host=/ ssl=False>>\n",
      "INFO:pika.adapters.utils.connection_workflow:AMQPConnectionWorkflow - reporting success: <SelectConnection OPEN transport=<pika.adapters.utils.io_services_utils._AsyncPlaintextTransport object at 0x0000019AD16E5400> params=<ConnectionParameters host=149.156.136.253 port=5672 virtual_host=/ ssl=False>>\n",
      "INFO:pika.adapters.blocking_connection:Connection workflow succeeded: <SelectConnection OPEN transport=<pika.adapters.utils.io_services_utils._AsyncPlaintextTransport object at 0x0000019AD16E5400> params=<ConnectionParameters host=149.156.136.253 port=5672 virtual_host=/ ssl=False>>\n",
      "INFO:pika.adapters.blocking_connection:Created channel=1\n",
      "INFO:pika.adapters.blocking_connection:Closing connection (200): Normal shutdown\n",
      "INFO:pika.channel:Closing channel (200): 'Normal shutdown' on <Channel number=1 OPEN conn=<SelectConnection OPEN transport=<pika.adapters.utils.io_services_utils._AsyncPlaintextTransport object at 0x0000019AD16E5400> params=<ConnectionParameters host=149.156.136.253 port=5672 virtual_host=/ ssl=False>>>\n",
      "INFO:pika.channel:Received <Channel.CloseOk> on <Channel number=1 CLOSING conn=<SelectConnection OPEN transport=<pika.adapters.utils.io_services_utils._AsyncPlaintextTransport object at 0x0000019AD16E5400> params=<ConnectionParameters host=149.156.136.253 port=5672 virtual_host=/ ssl=False>>>\n",
      "INFO:pika.connection:Closing connection (200): 'Normal shutdown'\n",
      "INFO:pika.adapters.utils.io_services_utils:Aborting transport connection: state=1; <socket.socket fd=1472, family=AddressFamily.AF_INET, type=SocketKind.SOCK_STREAM, proto=6, laddr=('192.168.88.59', 63339), raddr=('149.156.136.253', 5672)>\n",
      "INFO:pika.adapters.utils.io_services_utils:_AsyncTransportBase._initate_abort(): Initiating abrupt asynchronous transport shutdown: state=1; error=None; <socket.socket fd=1472, family=AddressFamily.AF_INET, type=SocketKind.SOCK_STREAM, proto=6, laddr=('192.168.88.59', 63339), raddr=('149.156.136.253', 5672)>\n",
      "INFO:pika.adapters.utils.io_services_utils:Deactivating transport: state=1; <socket.socket fd=1472, family=AddressFamily.AF_INET, type=SocketKind.SOCK_STREAM, proto=6, laddr=('192.168.88.59', 63339), raddr=('149.156.136.253', 5672)>\n",
      "INFO:pika.connection:AMQP stack terminated, failed to connect, or aborted: opened=True, error-arg=None; pending-error=ConnectionClosedByClient: (200) 'Normal shutdown'\n",
      "INFO:pika.connection:Stack terminated due to ConnectionClosedByClient: (200) 'Normal shutdown'\n",
      "INFO:pika.adapters.utils.io_services_utils:Closing transport socket and unlinking: state=3; <socket.socket fd=1472, family=AddressFamily.AF_INET, type=SocketKind.SOCK_STREAM, proto=6, laddr=('192.168.88.59', 63339), raddr=('149.156.136.253', 5672)>\n",
      "INFO:pika.adapters.blocking_connection:User-initiated close: result=BlockingConnection__OnClosedArgs(connection=<SelectConnection CLOSED transport=None params=<ConnectionParameters host=149.156.136.253 port=5672 virtual_host=/ ssl=False>>, error=ConnectionClosedByClient: (200) 'Normal shutdown')\n"
     ]
    }
   ],
   "source": [
    "agamoo.start()"
   ]
  },
  {
   "cell_type": "code",
   "execution_count": 7,
   "metadata": {},
   "outputs": [
    {
     "name": "stderr",
     "output_type": "stream",
     "text": [
      "INFO:pika.adapters.utils.connection_workflow:Pika version 1.2.0 connecting to ('149.156.136.253', 5672)\n",
      "INFO:pika.adapters.utils.io_services_utils:Socket connected: <socket.socket fd=1364, family=AddressFamily.AF_INET, type=SocketKind.SOCK_STREAM, proto=6, laddr=('192.168.88.59', 63179), raddr=('149.156.136.253', 5672)>\n",
      "INFO:pika.adapters.utils.connection_workflow:Streaming transport linked up: (<pika.adapters.utils.io_services_utils._AsyncPlaintextTransport object at 0x000001788FC25520>, _StreamingProtocolShim: <SelectConnection PROTOCOL transport=<pika.adapters.utils.io_services_utils._AsyncPlaintextTransport object at 0x000001788FC25520> params=<ConnectionParameters host=149.156.136.253 port=5672 virtual_host=/ ssl=False>>).\n",
      "INFO:pika.adapters.utils.connection_workflow:AMQPConnector - reporting success: <SelectConnection OPEN transport=<pika.adapters.utils.io_services_utils._AsyncPlaintextTransport object at 0x000001788FC25520> params=<ConnectionParameters host=149.156.136.253 port=5672 virtual_host=/ ssl=False>>\n",
      "INFO:pika.adapters.utils.connection_workflow:AMQPConnectionWorkflow - reporting success: <SelectConnection OPEN transport=<pika.adapters.utils.io_services_utils._AsyncPlaintextTransport object at 0x000001788FC25520> params=<ConnectionParameters host=149.156.136.253 port=5672 virtual_host=/ ssl=False>>\n",
      "INFO:pika.adapters.blocking_connection:Connection workflow succeeded: <SelectConnection OPEN transport=<pika.adapters.utils.io_services_utils._AsyncPlaintextTransport object at 0x000001788FC25520> params=<ConnectionParameters host=149.156.136.253 port=5672 virtual_host=/ ssl=False>>\n",
      "INFO:pika.adapters.blocking_connection:Created channel=1\n"
     ]
    }
   ],
   "source": [
    "agamoo.close()"
   ]
  },
  {
   "cell_type": "code",
   "execution_count": 10,
   "metadata": {},
   "outputs": [
    {
     "data": {
      "text/plain": [
       "{'objs_rpc': ['q_f1', 'q_f2', 'q_f3'],\n",
       " 'stop_flag': False,\n",
       " 'front': [],\n",
       " 'front_eval': [],\n",
       " 'iterations': [],\n",
       " 'evaluations': [],\n",
       " 'evaluations_m': [],\n",
       " 'nobjs': 3,\n",
       " 'max_front': 100,\n",
       " 'change_iter': 1,\n",
       " 'max_eval': 1000,\n",
       " 'min_iter_pop': 0,\n",
       " 'change_flag': False}"
      ]
     },
     "execution_count": 10,
     "metadata": {},
     "output_type": "execute_result"
    }
   ],
   "source": [
    "agamoo.get_results()"
   ]
  },
  {
   "cell_type": "code",
   "execution_count": 2,
   "metadata": {},
   "outputs": [],
   "source": [
    "for obj in objectives:\n",
    "    obj.run()"
   ]
  },
  {
   "cell_type": "code",
   "execution_count": 3,
   "metadata": {},
   "outputs": [
    {
     "name": "stdout",
     "output_type": "stream",
     "text": [
      "True\n",
      "True\n",
      "True\n"
     ]
    }
   ],
   "source": [
    "for obj in objectives:\n",
    "    print(obj._p.is_alive()) "
   ]
  },
  {
   "cell_type": "code",
   "execution_count": 4,
   "metadata": {},
   "outputs": [],
   "source": [
    "for player in players:\n",
    "    player.run()"
   ]
  },
  {
   "cell_type": "code",
   "execution_count": 5,
   "metadata": {},
   "outputs": [
    {
     "name": "stdout",
     "output_type": "stream",
     "text": [
      "True True\n",
      "True True\n",
      "True True\n"
     ]
    }
   ],
   "source": [
    "for player in players:\n",
    "    print(player._p1.is_alive(), player._p1.is_alive())"
   ]
  },
  {
   "cell_type": "code",
   "execution_count": 9,
   "metadata": {},
   "outputs": [
    {
     "data": {
      "text/plain": [
       "{'objs_rpc': ['q_f1', 'q_f2', 'q_f3'],\n",
       " 'stop_flag': False,\n",
       " 'front': [],\n",
       " 'front_eval': [],\n",
       " 'iterations': [],\n",
       " 'evaluations': [],\n",
       " 'evaluations_m': [],\n",
       " 'nobjs': 3,\n",
       " 'max_front': 100,\n",
       " 'change_iter': 1,\n",
       " 'max_eval': 1000,\n",
       " 'min_iter_pop': 0,\n",
       " 'change_flag': True}"
      ]
     },
     "execution_count": 9,
     "metadata": {},
     "output_type": "execute_result"
    }
   ],
   "source": [
    "agamoo.get_results()"
   ]
  },
  {
   "cell_type": "code",
   "execution_count": null,
   "metadata": {},
   "outputs": [],
   "source": []
  }
 ],
 "metadata": {
  "kernelspec": {
   "display_name": "Python 3 (ipykernel)",
   "language": "python",
   "name": "python3"
  },
  "language_info": {
   "codemirror_mode": {
    "name": "ipython",
    "version": 3
   },
   "file_extension": ".py",
   "mimetype": "text/x-python",
   "name": "python",
   "nbconvert_exporter": "python",
   "pygments_lexer": "ipython3",
   "version": "3.9.7"
  }
 },
 "nbformat": 4,
 "nbformat_minor": 1
}
