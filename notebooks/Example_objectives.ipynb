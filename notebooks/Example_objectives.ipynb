{
 "cells": [
  {
   "cell_type": "markdown",
   "metadata": {
    "collapsed": true,
    "pycharm": {
     "name": "#%% md\n"
    }
   },
   "source": [
    "## Create objectives"
   ]
  },
  {
   "cell_type": "code",
   "execution_count": 1,
   "metadata": {
    "pycharm": {
     "name": "#%%\n"
    }
   },
   "outputs": [],
   "source": [
    "import sys\n",
    "sys.path.append(r'C:\\Users\\Admin\\pyGAMOO')\n",
    "\n",
    "from pygamoo.objectives import RE34F1, RE34F2, RE34F3\n",
    "\n",
    "HOST = \"149.156.136.253\"\n",
    "PORT = 5672\n",
    "\n",
    "objectives = [RE34F1(0, 'q_f1', host=HOST, port=PORT),\n",
    "              RE34F2(1, 'q_f2', host=HOST, port=PORT),\n",
    "              RE34F3(2, 'q_f3', host=HOST, port=PORT)]"
   ]
  },
  {
   "cell_type": "markdown",
   "metadata": {
    "pycharm": {
     "name": "#%% md\n"
    }
   },
   "source": [
    "## Run servers\n"
   ]
  },
  {
   "cell_type": "code",
   "execution_count": 2,
   "metadata": {
    "pycharm": {
     "name": "#%%\n"
    }
   },
   "outputs": [],
   "source": [
    "for obj in objectives:\n",
    "    obj.run()"
   ]
  },
  {
   "cell_type": "code",
   "execution_count": 3,
   "metadata": {
    "pycharm": {
     "name": "#%%\n"
    }
   },
   "outputs": [
    {
     "name": "stdout",
     "output_type": "stream",
     "text": [
      "True\n",
      "True\n",
      "True\n"
     ]
    }
   ],
   "source": [
    "for obj in objectives:\n",
    "    print(obj.is_alive())"
   ]
  },
  {
   "cell_type": "markdown",
   "metadata": {
    "pycharm": {
     "name": "#%% md\n"
    }
   },
   "source": [
    "## Make request and evaluate example solutions"
   ]
  },
  {
   "cell_type": "code",
   "execution_count": 10,
   "metadata": {
    "pycharm": {
     "name": "#%%\n"
    }
   },
   "outputs": [
    {
     "name": "stdout",
     "output_type": "stream",
     "text": [
      "Response from 0: [1650.78924698 1651.26610489 1645.31735203 1650.73874778 1646.13470916\n",
      " 1649.84778961 1650.50716784 1647.51226098 1652.14083507 1652.63305004]\n",
      "Response from 1: [7.3518775  7.6518277  7.54712415 7.01287657 6.94524374 6.50123619\n",
      " 7.33279529 6.74767516 7.41702044 7.674354  ]\n",
      "Response from 2: [ 0.00587706 -0.01231392 -0.01652018  0.06153472 -0.00324975  0.04977242\n",
      " -0.01424427  0.03556185  0.01080235  0.0076541 ]\n"
     ]
    }
   ],
   "source": [
    "import numpy as np\n",
    "from pygamoo.utils import RpcClient, evaluate_call  \n",
    "\n",
    "solutions = np.random.random(size=(10,5))\n",
    "\n",
    "for obj in objectives:\n",
    "    obj_rpc = RpcClient(obj.qname, obj.host, obj.port)\n",
    "    res = evaluate_call(solutions, obj_rpc)\n",
    "    print(f'Response from {obj.num}: {res}')"
   ]
  },
  {
   "cell_type": "markdown",
   "metadata": {
    "pycharm": {
     "name": "#%% md\n"
    }
   },
   "source": [
    "## Close servers "
   ]
  },
  {
   "cell_type": "code",
   "execution_count": null,
   "metadata": {
    "pycharm": {
     "name": "#%%\n"
    }
   },
   "outputs": [],
   "source": [
    "for obj in objectives:\n",
    "    obj.close()"
   ]
  },
  {
   "cell_type": "code",
   "execution_count": null,
   "metadata": {
    "pycharm": {
     "name": "#%%\n"
    }
   },
   "outputs": [],
   "source": [
    "for obj in objectives:\n",
    "    print(obj.is_alive())"
   ]
  },
  {
   "cell_type": "code",
   "execution_count": null,
   "metadata": {
    "pycharm": {
     "name": "#%%\n"
    }
   },
   "outputs": [],
   "source": []
  }
 ],
 "metadata": {
  "kernelspec": {
   "display_name": "Python 3 (ipykernel)",
   "language": "python",
   "name": "python3"
  },
  "language_info": {
   "codemirror_mode": {
    "name": "ipython",
    "version": 3
   },
   "file_extension": ".py",
   "mimetype": "text/x-python",
   "name": "python",
   "nbconvert_exporter": "python",
   "pygments_lexer": "ipython3",
   "version": "3.9.12"
  }
 },
 "nbformat": 4,
 "nbformat_minor": 1
}