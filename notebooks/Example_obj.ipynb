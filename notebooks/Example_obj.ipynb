{
 "cells": [
  {
   "cell_type": "markdown",
   "metadata": {
    "collapsed": true,
    "pycharm": {
     "name": "#%% md\n"
    }
   },
   "source": [
    "## Create objectives"
   ]
  },
  {
   "cell_type": "code",
   "execution_count": 1,
   "metadata": {
    "pycharm": {
     "name": "#%%\n"
    }
   },
   "outputs": [],
   "source": [
    "import sys\n",
    "sys.path.append(r'../')\n",
    "from pygamoo.objectives.re import RE34F1, RE34F2, RE34F3\n",
    "\n",
    "HOST = \"149.156.136.253\"\n",
    "PORT = 5672\n",
    "\n",
    "objectives = [RE34F1(0, 'q_f1', host=HOST, port=PORT),\n",
    "              RE34F2(1, 'q_f2', host=HOST, port=PORT), \n",
    "              RE34F3(2, 'q_f3', host=HOST, port=PORT)]"
   ]
  },
  {
   "cell_type": "markdown",
   "metadata": {
    "pycharm": {
     "name": "#%% md\n"
    }
   },
   "source": [
    "## Running objectives\n"
   ]
  },
  {
   "cell_type": "code",
   "execution_count": 2,
   "metadata": {
    "pycharm": {
     "name": "#%%\n"
    }
   },
   "outputs": [],
   "source": [
    "for obj in objectives:\n",
    "    obj.run()"
   ]
  },
  {
   "cell_type": "code",
   "execution_count": 4,
   "metadata": {
    "pycharm": {
     "name": "#%%\n"
    }
   },
   "outputs": [
    {
     "name": "stdout",
     "output_type": "stream",
     "text": [
      "True\n",
      "True\n",
      "True\n"
     ]
    }
   ],
   "source": [
    "for obj in objectives:\n",
    "    print(obj._p.is_alive())"
   ]
  },
  {
   "cell_type": "markdown",
   "metadata": {},
   "source": [
    "## Evaluate example solutions"
   ]
  },
  {
   "cell_type": "code",
   "execution_count": 6,
   "metadata": {},
   "outputs": [
    {
     "name": "stdout",
     "output_type": "stream",
     "text": [
      "[1654.140788   1656.40286811 1650.48763683 1643.80103834 1650.00652308\n",
      " 1658.33891076 1646.54809022 1647.98409364 1651.89313852 1654.11204278]\n",
      "[8.1800675  8.0483763  7.05199597 7.22846568 7.25307444 8.09176737\n",
      " 7.33458035 7.14937138 7.62056929 7.87710832]\n",
      "[ 0.01056323  0.03463609  0.00581077 -0.03144343  0.06356602  0.06288844\n",
      " -0.00017786  0.01524249  0.00942242  0.00959731]\n"
     ]
    }
   ],
   "source": [
    "import numpy as np\n",
    "import pickle\n",
    "from pygamoo.utils import RpcClient, evaluate_call  "
   ]
  },
  {
   "cell_type": "code",
   "execution_count": 8,
   "metadata": {},
   "outputs": [
    {
     "name": "stdout",
     "output_type": "stream",
     "text": [
      "[1651.39805264 1651.97647735 1646.06008564 1654.99582763 1653.73622168\n",
      " 1655.36718953 1656.03238689 1646.87202295 1651.69126514 1659.27569419]\n",
      "[7.20626236 7.30290664 6.65417006 7.41776397 7.95909879 8.47096849\n",
      " 7.99776222 6.22874544 7.34187086 8.31378419]\n",
      "[ 0.03661723  0.04562358 -0.01203549  0.03899061  0.04494611  0.01617036\n",
      " -0.00774887  0.04101298  0.05193963  0.05721459]\n"
     ]
    }
   ],
   "source": [
    "solutions = np.random.random(size=(10,5))\n",
    "\n",
    "for obj in objectives:\n",
    "    obj_rpc = RpcClient(obj.qname, obj.host, obj.port)\n",
    "    r = evaluate_call(solutions, obj_rpc)\n",
    "    print(r)"
   ]
  },
  {
   "cell_type": "markdown",
   "metadata": {},
   "source": [
    "## Stop objectives end delete queues "
   ]
  },
  {
   "cell_type": "code",
   "execution_count": 9,
   "metadata": {},
   "outputs": [],
   "source": [
    "for obj in objectives:\n",
    "    obj.stop()"
   ]
  },
  {
   "cell_type": "code",
   "execution_count": 10,
   "metadata": {},
   "outputs": [
    {
     "data": {
      "text/plain": [
       "[<Process name='Process-1' pid=4540 parent=30852 stopped exitcode=-SIGTERM daemon>,\n",
       " <Process name='Process-2' pid=15664 parent=30852 stopped exitcode=-SIGTERM daemon>,\n",
       " <Process name='Process-3' pid=31128 parent=30852 stopped exitcode=-SIGTERM daemon>]"
      ]
     },
     "execution_count": 10,
     "metadata": {},
     "output_type": "execute_result"
    }
   ],
   "source": [
    "for obj in objectives:\n",
    "    obj._p.is_alive()"
   ]
  },
  {
   "cell_type": "code",
   "execution_count": null,
   "metadata": {},
   "outputs": [],
   "source": []
  }
 ],
 "metadata": {
  "kernelspec": {
   "display_name": "Python 3 (ipykernel)",
   "language": "python",
   "name": "python3"
  },
  "language_info": {
   "codemirror_mode": {
    "name": "ipython",
    "version": 3
   },
   "file_extension": ".py",
   "mimetype": "text/x-python",
   "name": "python",
   "nbconvert_exporter": "python",
   "pygments_lexer": "ipython3",
   "version": "3.9.7"
  }
 },
 "nbformat": 4,
 "nbformat_minor": 1
}
