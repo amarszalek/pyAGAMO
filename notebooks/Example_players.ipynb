{
 "cells": [
  {
   "cell_type": "code",
   "execution_count": 1,
   "metadata": {},
   "outputs": [],
   "source": [
    "import sys\n",
    "sys.path.append(r'../')\n",
    "\n",
    "HOST = \"149.156.136.253\"\n",
    "PORT = 5672\n",
    "\n",
    "from pygamoo.players.clonalselection import ClonalSelection"
   ]
  },
  {
   "cell_type": "code",
   "execution_count": 2,
   "metadata": {},
   "outputs": [],
   "source": [
    "bounds = list(zip([1.0, 1.0, 1.0, 1.0, 1.0],[3.0, 3.0, 3.0, 3.0, 3.0]))\n",
    "\n",
    "player_parm = { \"nclone\": 15, \"mutate_args\": [0.45, 0.9, 0.1]}"
   ]
  },
  {
   "cell_type": "code",
   "execution_count": 3,
   "metadata": {},
   "outputs": [],
   "source": [
    "players = [ClonalSelection(0, 'q_f1', None, 'pls_exchange', 20, 5, bounds, HOST, PORT, player_parm),\n",
    "           ClonalSelection(1, 'q_f2', None, 'pls_exchange', 20, 5, bounds, HOST, PORT, player_parm),\n",
    "           ClonalSelection(2, 'q_f3', None, 'pls_exchange', 20, 5, bounds, HOST, PORT, player_parm)]"
   ]
  },
  {
   "cell_type": "code",
   "execution_count": 4,
   "metadata": {},
   "outputs": [],
   "source": [
    "players[0].run()"
   ]
  },
  {
   "cell_type": "code",
   "execution_count": 5,
   "metadata": {},
   "outputs": [
    {
     "data": {
      "text/plain": [
       "(<Process name='Process-2' pid=35604 parent=36368 started daemon>,\n",
       " <Process name='Process-3' pid=34832 parent=36368 started daemon>)"
      ]
     },
     "execution_count": 5,
     "metadata": {},
     "output_type": "execute_result"
    }
   ],
   "source": [
    "players[0]._p1, players[0]._p2"
   ]
  },
  {
   "cell_type": "code",
   "execution_count": 6,
   "metadata": {},
   "outputs": [],
   "source": [
    "p2.exitcode"
   ]
  },
  {
   "cell_type": "code",
   "execution_count": 4,
   "metadata": {},
   "outputs": [],
   "source": [
    "from multiprocessing import Manager, Process\n",
    "manager = Manager()\n",
    "lock = manager.RLock()\n",
    "shared_values = manager.dict({})\n",
    "shared_values['start_flag'] = False\n",
    "\n",
    "\n",
    "\n",
    "p1 = Process(target=players[0]._cmd_consumer, args=(players[0], shared_values, lock))\n",
    "p1.daemon = True\n",
    "p1.start()\n",
    "\n",
    "#players[0]._main_process(players[0], shared_values, lock)\n",
    "\n",
    "p2 = Process(target=players[0]._main_process, args=(players[0], shared_values, lock))\n",
    "p2.daemon = True\n",
    "p2.start()"
   ]
  },
  {
   "cell_type": "code",
   "execution_count": 7,
   "metadata": {},
   "outputs": [
    {
     "data": {
      "text/plain": [
       "True"
      ]
     },
     "execution_count": 7,
     "metadata": {},
     "output_type": "execute_result"
    }
   ],
   "source": [
    "p1.is_alive()"
   ]
  },
  {
   "cell_type": "code",
   "execution_count": 5,
   "metadata": {},
   "outputs": [
    {
     "name": "stdout",
     "output_type": "stream",
     "text": [
      "True False\n",
      "True False\n",
      "True False\n"
     ]
    }
   ],
   "source": [
    "for player in players:\n",
    "    print(player._p1.is_alive(), player._p2.is_alive())"
   ]
  },
  {
   "cell_type": "code",
   "execution_count": null,
   "metadata": {},
   "outputs": [],
   "source": [
    "for player in players:\n",
    "    print(player._p2.is_alive())"
   ]
  },
  {
   "cell_type": "code",
   "execution_count": null,
   "metadata": {},
   "outputs": [],
   "source": [
    "{\n",
    "  \"problemName\": \"RE34\",\n",
    "  \"dockerImages\": [\"re34\", \"re34\", \"re34\"],\n",
    "  \"mode\": [1, 1, 1],\n",
    "  \"nObjs\": 3,\n",
    "  \"nVars\": 5,\n",
    "  \"lBounds\": [1.0, 1.0, 1.0, 1.0, 1.0],\n",
    "  \"uBounds\": [3.0, 3.0, 3.0, 3.0, 3.0],\n",
    "  \"cmdQueue\": \"manager_queue_cmd\",\n",
    "  \"objsQueues\": [\"re34_f1\", \"re34_f2\", \"re34_f3\"],\n",
    "  \"repairQueue\": \"none\", \n",
    "  \"playersExchange\": \"players_cmd\",\n",
    "  \"playersArgs\": [\n",
    "    {\"image\": \"player_cs\", \"nclone\": 15, \"mutate_args\": [0.45, 0.9, 0.1]},\n",
    "    {\"image\": \"player_cs\", \"nclone\": 15, \"mutate_args\": [0.45, 0.9, 0.1]},\n",
    "    {\"image\": \"player_cs\", \"nclone\": 15, \"mutate_args\": [0.45, 0.9, 0.1]}\n",
    "  ],\n",
    "  \"frontQueue\": \"front_queue\"\n",
    "}"
   ]
  }
 ],
 "metadata": {
  "kernelspec": {
   "display_name": "Python 3 (ipykernel)",
   "language": "python",
   "name": "python3"
  },
  "language_info": {
   "codemirror_mode": {
    "name": "ipython",
    "version": 3
   },
   "file_extension": ".py",
   "mimetype": "text/x-python",
   "name": "python",
   "nbconvert_exporter": "python",
   "pygments_lexer": "ipython3",
   "version": "3.9.7"
  }
 },
 "nbformat": 4,
 "nbformat_minor": 1
}
