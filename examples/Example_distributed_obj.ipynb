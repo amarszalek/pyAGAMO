{
 "cells": [
  {
   "cell_type": "code",
   "source": [
    "from pyagamo.objectives import RE25\n",
    "from pyagamo.objective import publish_objective"
   ],
   "metadata": {
    "collapsed": false,
    "pycharm": {
     "name": "#%%\n",
     "is_executing": true
    },
    "ExecuteTime": {
     "end_time": "2024-05-02T21:32:28.381804Z",
     "start_time": "2024-05-02T21:32:28.228805Z"
    }
   },
   "execution_count": 1,
   "outputs": []
  },
  {
   "cell_type": "code",
   "source": [
    "obj1 = RE25(0, obj=1)\n",
    "obj2 = RE25(1, obj=2)\n",
    "obj1m = RE25(2, obj=1)\n",
    "obj2m = RE25(3, obj=2)"
   ],
   "metadata": {
    "collapsed": false,
    "pycharm": {
     "name": "#%%\n"
    },
    "ExecuteTime": {
     "end_time": "2024-05-02T21:32:29.606703Z",
     "start_time": "2024-05-02T21:32:29.590705Z"
    }
   },
   "execution_count": 2,
   "outputs": []
  },
  {
   "metadata": {
    "ExecuteTime": {
     "start_time": "2024-05-02T21:32:30.867472Z"
    }
   },
   "cell_type": "code",
   "source": "publish_objective(obj1, obj2, obj1m, obj2m)",
   "execution_count": null,
   "outputs": []
  },
  {
   "metadata": {},
   "cell_type": "code",
   "execution_count": null,
   "source": "",
   "outputs": []
  }
 ],
 "metadata": {
  "kernelspec": {
   "display_name": "Python 3",
   "language": "python",
   "name": "python3"
  },
  "language_info": {
   "codemirror_mode": {
    "name": "ipython",
    "version": 2
   },
   "file_extension": ".py",
   "mimetype": "text/x-python",
   "name": "python",
   "nbconvert_exporter": "python",
   "pygments_lexer": "ipython2",
   "version": "2.7.6"
  }
 },
 "nbformat": 4,
 "nbformat_minor": 0
}
