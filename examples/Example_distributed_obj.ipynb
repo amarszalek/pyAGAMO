{
 "cells": [
  {
   "cell_type": "code",
   "source": [
    "from pyagamo.objectives import RE25\n",
    "from pyagamo.objective import publish_objective"
   ],
   "metadata": {
    "collapsed": false,
    "pycharm": {
     "name": "#%%\n",
     "is_executing": true
    },
    "ExecuteTime": {
     "end_time": "2024-05-02T21:32:28.381804Z",
     "start_time": "2024-05-02T21:32:28.228805Z"
    }
   },
   "outputs": [],
   "execution_count": 1
  },
  {
   "cell_type": "code",
   "source": [
    "obj1 = RE25(0, obj=1)\n",
    "obj2 = RE25(1, obj=2)\n",
    "obj1m = RE25(2, obj=1)\n",
    "obj2m = RE25(3, obj=2)"
   ],
   "metadata": {
    "collapsed": false,
    "pycharm": {
     "name": "#%%\n"
    },
    "ExecuteTime": {
     "end_time": "2024-05-02T21:32:29.606703Z",
     "start_time": "2024-05-02T21:32:29.590705Z"
    }
   },
   "outputs": [],
   "execution_count": 2
  },
  {
   "metadata": {
    "ExecuteTime": {
     "start_time": "2024-05-02T21:32:30.867472Z"
    }
   },
   "cell_type": "code",
   "source": "publish_objective(obj1, obj2, obj1m, obj2m)",
   "outputs": [
    {
     "name": "stdout",
     "output_type": "stream",
     "text": [
      "PYRO:obj_6a8948e30ab5418182fb4061d526b8df@localhost:49228\n",
      "PYRO:obj_f46c485dff6f468b939b29d859d218bc@localhost:49228\n",
      "PYRO:obj_491a5899518e49d8857a3122706caf32@localhost:49228\n",
      "PYRO:obj_45350d6084bd404f8c5ed7c15495c4ed@localhost:49228\n"
     ]
    }
   ],
   "execution_count": null
  },
  {
   "metadata": {},
   "cell_type": "code",
   "outputs": [],
   "execution_count": null,
   "source": ""
  }
 ],
 "metadata": {
  "kernelspec": {
   "display_name": "Python 3",
   "language": "python",
   "name": "python3"
  },
  "language_info": {
   "codemirror_mode": {
    "name": "ipython",
    "version": 2
   },
   "file_extension": ".py",
   "mimetype": "text/x-python",
   "name": "python",
   "nbconvert_exporter": "python",
   "pygments_lexer": "ipython2",
   "version": "2.7.6"
  }
 },
 "nbformat": 4,
 "nbformat_minor": 0
}
