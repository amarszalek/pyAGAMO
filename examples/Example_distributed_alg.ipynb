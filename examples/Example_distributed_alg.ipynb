{
 "cells": [
  {
   "cell_type": "code",
   "source": [
    "from pyagamo.players import ClonalSelection\n",
    "from pyagamo import AGAMO\n",
    "import time\n",
    "import matplotlib.pyplot as plt\n",
    "import Pyro4"
   ],
   "metadata": {
    "collapsed": false,
    "pycharm": {
     "name": "#%%\n",
     "is_executing": true
    },
    "ExecuteTime": {
     "end_time": "2024-05-02T21:34:27.653659Z",
     "start_time": "2024-05-02T21:34:26.585486Z"
    }
   },
   "execution_count": 1,
   "outputs": []
  },
  {
   "cell_type": "code",
   "source": [
    "max_eval = 10000\n",
    "npop = 25\n",
    "change_iter = 1\n",
    "next_iter = -1\n",
    "max_front = 100\n",
    "player_parm = { \"nclone\": 15, \"mutate_args\": [0.45, 0.9, 0.01], 'sup': 0.0}"
   ],
   "metadata": {
    "collapsed": false,
    "pycharm": {
     "name": "#%%\n"
    },
    "ExecuteTime": {
     "end_time": "2024-05-02T21:34:31.312659Z",
     "start_time": "2024-05-02T21:34:31.298661Z"
    }
   },
   "execution_count": 2,
   "outputs": []
  },
  {
   "metadata": {
    "ExecuteTime": {
     "end_time": "2024-05-02T21:34:33.978426Z",
     "start_time": "2024-05-02T21:34:33.964428Z"
    }
   },
   "cell_type": "code",
   "source": [
    "obj1 = Pyro4.Proxy('PYRO:obj_6a8948e30ab5418182fb4061d526b8df@localhost:49228')\n",
    "obj2 = Pyro4.Proxy('PYRO:obj_f46c485dff6f468b939b29d859d218bc@localhost:49228')\n",
    "obj1_m = Pyro4.Proxy('PYRO:obj_491a5899518e49d8857a3122706caf32@localhost:49228')\n",
    "obj2_m = Pyro4.Proxy('PYRO:obj_45350d6084bd404f8c5ed7c15495c4ed@localhost:49228')\n",
    "objs = [obj1, obj2]\n",
    "objs_m = [obj1_m, obj2_m]"
   ],
   "execution_count": 3,
   "outputs": []
  },
  {
   "cell_type": "code",
   "source": "players = [ClonalSelection(i, npop, player_parm, transport='tcp') for i in range(2)]",
   "metadata": {
    "collapsed": false,
    "pycharm": {
     "name": "#%%\n"
    },
    "ExecuteTime": {
     "end_time": "2024-05-02T21:34:41.329903Z",
     "start_time": "2024-05-02T21:34:41.175903Z"
    }
   },
   "execution_count": 4,
   "outputs": []
  },
  {
   "metadata": {
    "ExecuteTime": {
     "end_time": "2024-05-02T21:34:53.362604Z",
     "start_time": "2024-05-02T21:34:46.549893Z"
    }
   },
   "cell_type": "code",
   "source": [
    "agamo = AGAMO(max_eval, change_iter, next_iter, max_front, transport='tcp')\n",
    "agamo.add_objectives(objs, objs_m)\n",
    "agamo.add_players(players)\n",
    "agamo.init()"
   ],
   "execution_count": 5,
   "outputs": []
  },
  {
   "metadata": {
    "ExecuteTime": {
     "end_time": "2024-05-02T21:35:07.886734Z",
     "start_time": "2024-05-02T21:34:56.441886Z"
    }
   },
   "cell_type": "code",
   "source": [
    "agamo.start_optimize()\n",
    "res=agamo.get_results()\n",
    "agamo.close()"
   ],
   "execution_count": 6,
   "outputs": []
  },
  {
   "metadata": {
    "ExecuteTime": {
     "end_time": "2024-05-02T21:35:11.753921Z",
     "start_time": "2024-05-02T21:35:11.731942Z"
    }
   },
   "cell_type": "code",
   "source": "res",
   "execution_count": 7,
   "outputs": []
  },
  {
   "metadata": {
    "ExecuteTime": {
     "end_time": "2024-05-02T21:35:36.780264Z",
     "start_time": "2024-05-02T21:35:36.568259Z"
    }
   },
   "cell_type": "code",
   "source": [
    "ax = plt.figure('Front Pareto', figsize=(6, 6)).add_subplot(111)\n",
    "front_eval = res['front_eval']\n",
    "ax.scatter(front_eval[:, 0], front_eval[:, 1], marker='o', label=str(max_eval))\n",
    "ax.grid(True)\n",
    "plt.legend()\n",
    "plt.show()"
   ],
   "execution_count": 8,
   "outputs": []
  },
  {
   "metadata": {
    "ExecuteTime": {
     "end_time": "2024-05-02T21:36:00.050877Z",
     "start_time": "2024-05-02T21:35:52.903096Z"
    }
   },
   "cell_type": "code",
   "source": [
    "agamo = AGAMO(max_eval, change_iter, next_iter, max_front)\n",
    "agamo.add_objectives(objs, objs_m)\n",
    "agamo.add_players(players)\n",
    "agamo.init()"
   ],
   "execution_count": 9,
   "outputs": []
  },
  {
   "metadata": {
    "ExecuteTime": {
     "end_time": "2024-05-02T21:36:21.052858Z",
     "start_time": "2024-05-02T21:36:09.282162Z"
    }
   },
   "cell_type": "code",
   "source": [
    "agamo.start_optimize(thread=True)\n",
    "res=agamo.get_results()\n",
    "while not res.get('stop_flag', False):\n",
    "    res=agamo.get_results()\n",
    "    front_eval = res.get('front_eval', None)\n",
    "    if (front_eval is not None) and len(front_eval)>0:\n",
    "        ax = plt.figure('Front Pareto', figsize=(6, 6)).add_subplot(111)\n",
    "        ax.grid(True)\n",
    "        ax.scatter(front_eval[:, 0], front_eval[:, 1], marker='o', label=res['evaluations']+res['evaluations_m'])\n",
    "        plt.legend()\n",
    "        plt.show()\n",
    "    time.sleep(1)\n",
    "    #print(res.get('iterations', 'brak'))\n",
    "agamo.close()"
   ],
   "execution_count": 10,
   "outputs": []
  },
  {
   "metadata": {
    "ExecuteTime": {
     "end_time": "2024-05-02T21:36:25.489150Z",
     "start_time": "2024-05-02T21:36:25.468152Z"
    }
   },
   "cell_type": "code",
   "source": "res",
   "execution_count": 11,
   "outputs": []
  },
  {
   "metadata": {},
   "cell_type": "code",
   "execution_count": null,
   "source": "",
   "outputs": []
  }
 ],
 "metadata": {
  "kernelspec": {
   "display_name": "Python 3",
   "language": "python",
   "name": "python3"
  },
  "language_info": {
   "codemirror_mode": {
    "name": "ipython",
    "version": 2
   },
   "file_extension": ".py",
   "mimetype": "text/x-python",
   "name": "python",
   "nbconvert_exporter": "python",
   "pygments_lexer": "ipython2",
   "version": "2.7.6"
  }
 },
 "nbformat": 4,
 "nbformat_minor": 0
}
